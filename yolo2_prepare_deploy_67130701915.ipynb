{
  "nbformat": 4,
  "nbformat_minor": 0,
  "metadata": {
    "colab": {
      "provenance": []
    },
    "kernelspec": {
      "name": "python3",
      "display_name": "Python 3"
    },
    "language_info": {
      "name": "python"
    }
  },
  "cells": [
    {
      "cell_type": "code",
      "execution_count": 28,
      "metadata": {
        "colab": {
          "base_uri": "https://localhost:8080/"
        },
        "id": "rbJJu6zyAqhs",
        "outputId": "a49b9470-6976-464f-b690-ac236a45a608"
      },
      "outputs": [
        {
          "output_type": "stream",
          "name": "stdout",
          "text": [
            "packages.txt      yolo11n.pt\n",
            "Requirements.txt  yolo2_prepare_deploy_67130701915.ipynb\n"
          ]
        }
      ],
      "source": [
        "ls"
      ]
    },
    {
      "cell_type": "code",
      "source": [
        "cd /content/drive/MyDrive/!698-1-2025/Lec08"
      ],
      "metadata": {
        "colab": {
          "base_uri": "https://localhost:8080/"
        },
        "id": "8urBYQNGBH7D",
        "outputId": "056a9a34-9b27-4ad0-e182-31f827ad2745"
      },
      "execution_count": 29,
      "outputs": [
        {
          "output_type": "stream",
          "name": "stdout",
          "text": [
            "/content/drive/MyDrive/!698-1-2025/Lec08\n"
          ]
        }
      ]
    },
    {
      "cell_type": "code",
      "source": [
        "ls"
      ],
      "metadata": {
        "colab": {
          "base_uri": "https://localhost:8080/"
        },
        "id": "msnyVQNpBqkL",
        "outputId": "64544b8f-8eb2-42f9-e1a4-b401141917ea"
      },
      "execution_count": 30,
      "outputs": [
        {
          "output_type": "stream",
          "name": "stdout",
          "text": [
            "packages.txt      yolo11n.pt\n",
            "Requirements.txt  yolo2_prepare_deploy_67130701915.ipynb\n"
          ]
        }
      ]
    },
    {
      "cell_type": "markdown",
      "source": [
        "### prepare Requirements.txt"
      ],
      "metadata": {
        "id": "wcMUX_1tCS7r"
      }
    },
    {
      "cell_type": "code",
      "source": [
        "%%writefile Requirements.txt\n",
        "opencv-python\n",
        "ultralytics\n",
        "streamlit\n",
        "numpy"
      ],
      "metadata": {
        "colab": {
          "base_uri": "https://localhost:8080/"
        },
        "id": "_vEW_QYfCV6S",
        "outputId": "7ee8d2d9-ce1b-4514-dd7e-b5cfe34eba93"
      },
      "execution_count": 23,
      "outputs": [
        {
          "output_type": "stream",
          "name": "stdout",
          "text": [
            "Writing Requirements.txt\n"
          ]
        }
      ]
    },
    {
      "cell_type": "code",
      "source": [
        "%%writefile packages.txt\n",
        "libgl1-mesa-glx"
      ],
      "metadata": {
        "colab": {
          "base_uri": "https://localhost:8080/"
        },
        "id": "PfdOD5AhDLyz",
        "outputId": "ee9e68b0-0822-42a1-dde8-e810dfb96f38"
      },
      "execution_count": 24,
      "outputs": [
        {
          "output_type": "stream",
          "name": "stdout",
          "text": [
            "Writing packages.txt\n"
          ]
        }
      ]
    },
    {
      "cell_type": "markdown",
      "source": [
        "### Prepare aap.py"
      ],
      "metadata": {
        "id": "VKgMNolIHEXi"
      }
    },
    {
      "cell_type": "code",
      "source": [
        "%%writefile app.py\n",
        "\n",
        "import streamlit as st\n",
        "from ultralytics import YOLO\n",
        "from PIL import Image\n",
        "import numpy as np\n",
        "\n",
        "st.title(\"YOLO Image Detection App :)\")\n",
        "\n",
        "# Load YOLO model\n",
        "# model = YOLO(\"runs/detect/train73/weights/best.pt\")\n",
        "model = YOLO(\"weights/your -model.pt\")\n",
        "\n",
        "# Upload image\n",
        "uploaded_image = st.file_uploader(\"Upload an image (jpg, png)\", type=[\"jpg\", \"jpeg\", \"png\"])\n",
        "\n",
        "if uploaded_image is not None:\n",
        "# Show original image\n",
        "  st.image(uploaded_image , caption=\"Uploaded Image\", use_container_width=True)\n",
        "\n",
        "# Read image and convert to numpy array\n",
        "image = Image.open(uploaded_image)\n",
        "image_np = np.array(image)\n",
        "\n",
        "# Run YOLO inference\n",
        "st.info(\"Running YOLO object detection...\")\n",
        "results = model.predict(image_np , conf=0.4)\n",
        "\n",
        "# Draw results on image\n",
        "result_image = results[0].plot()\n",
        "st.image(result_image , caption=\"YOLO Detection Result\", use_container_width=\n",
        "True)\n",
        "st.success(\"Detection completed!\")\n",
        "\n",
        "if uploaded_image is not None:\n",
        "# Extract detection results\n",
        "  boxes = results[0].boxes\n",
        "class_ids = boxes.cls.cpu().numpy().astype(int)\n",
        "class_names = [model.names[i] for i in class_ids]\n",
        "\n",
        "# Count people\n",
        "person_count = class_names.count(\"person\")\n",
        "st.write(f\"Number of people detected: **{person_count}**\")\n",
        "\n",
        ""
      ],
      "metadata": {
        "colab": {
          "base_uri": "https://localhost:8080/"
        },
        "id": "e_gKbcbmEIKV",
        "outputId": "a3ca84fd-5f64-4df1-96fb-388cbd2394b0"
      },
      "execution_count": 31,
      "outputs": [
        {
          "output_type": "stream",
          "name": "stdout",
          "text": [
            "Writing app.py\n"
          ]
        }
      ]
    }
  ]
}